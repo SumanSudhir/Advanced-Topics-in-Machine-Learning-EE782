{
 "cells": [
  {
   "cell_type": "code",
   "execution_count": null,
   "metadata": {},
   "outputs": [],
   "source": [
    "import pickle\n",
    "from struct import unpack\n",
    "import gzip\n",
    "import numpy as np\n",
    "\n",
    "from RBM import RBM\n",
    "\n",
    "#Dataset\n",
    "f = gzip.open(\"../data/mnist.pkl.gz\", \"rb\")\n",
    "data = pickle.load(f,encoding='bytes')\n",
    "f.close()\n",
    "(x_train, y_train), (x_test, y_test) = data\n",
    "#x_train = x_train.reshape(x_train.shape[0],x_train.shape[1]*x_train.shape[2])\n",
    "# x = x_train[0].reshape(1,784)\n",
    "\n",
    "\n",
    "\"\"\"Training of Restricted Boltzmann Machine\"\"\"\n",
    "\n",
    "model = RBM(n_visible=28*28, n_hidden=144, lr=0.1, l2_coeff=1e-4, momentum_coff=0.5)\n",
    "\n",
    "training_epochs = 5\n",
    "batch_size = 1\n",
    "for epoch in range(training_epochs):\n",
    "    # index = 0\n",
    "    img_num = 60000\n",
    "    cost = 0\n",
    "    for i in range(img_num):\n",
    "        x = x_train[i].reshape(1,784)\n",
    "        cost += model.const_divergence(x/255.0, K=5)\n",
    "\n",
    "    cost = cost/img_num\n",
    "    print('Training epoch %d, cost is ' % epoch, cost)"
   ]
  },
  {
   "cell_type": "code",
   "execution_count": 40,
   "metadata": {},
   "outputs": [],
   "source": [
    "\"\"\"Plotting and Testing of Restricted Boltzmann Machine\"\"\"\n",
    "number = 44\n",
    "visible = x_train[number].reshape(1,784)\n",
    "prob_h_given_v, h_sample = model.sample_h_given_v(visible)\n",
    "prob_v_given_hk, v_sample_k = model.sample_v_given_h(h_sample)\n",
    "# x = v_sample_k.reshape(28,28)\n",
    "x = prob_v_given_hk.reshape(28,28)\n",
    "\n",
    "def img_frombytes(data):\n",
    "    size = data.shape[::-1]\n",
    "    databytes = np.packbits(data, axis=1)\n",
    "    return Image.frombytes(mode='1', size=size, data=databytes)\n",
    "\n",
    "# from PIL import Image\n",
    "# img1 = Image.fromarray(x_train[number])\n",
    "# img1.save(\"train.png\")\n",
    "\n",
    "# img = img_frombytes(x)\n",
    "# img.save('my.png')\n",
    "# img.show()"
   ]
  },
  {
   "cell_type": "code",
   "execution_count": 41,
   "metadata": {},
   "outputs": [
    {
     "data": {
      "image/png": "[encoded data removed]",
      "text/plain": [
       "<Figure size 432x288 with 1 Axes>"
      ]
     },
     "metadata": {
      "needs_background": "light"
     },
     "output_type": "display_data"
    },
    {
     "data": {
      "image/png": "[encoded data removed]",
      "text/plain": [
       "<Figure size 432x288 with 1 Axes>"
      ]
     },
     "metadata": {
      "needs_background": "light"
     },
     "output_type": "display_data"
    }
   ],
   "source": [
    "import matplotlib.pyplot as plt\n",
    "plt.imshow(x,cmap=\"gray\")\n",
    "plt.show()\n",
    "plt.imshow(x_train[number], cmap=\"gray\")\n",
    "plt.show()"
   ]
  },
  {
   "cell_type": "code",
   "execution_count": null,
   "metadata": {},
   "outputs": [],
   "source": []
  }
 ],
 "metadata": {
  "kernelspec": {
   "display_name": "Python 3",
   "language": "python",
   "name": "python3"
  },
  "language_info": {
   "codemirror_mode": {
    "name": "ipython",
    "version": 3
   },
   "file_extension": ".py",
   "mimetype": "text/x-python",
   "name": "python",
   "nbconvert_exporter": "python",
   "pygments_lexer": "ipython3",
   "version": "3.7.3"
  }
 },
 "nbformat": 4,
 "nbformat_minor": 4
}
