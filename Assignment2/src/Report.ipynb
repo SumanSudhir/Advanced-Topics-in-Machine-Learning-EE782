{
 "cells": [
  {
   "cell_type": "markdown",
   "metadata": {},
   "source": [
    "# Restricted Boltzmann Machine Testing"
   ]
  },
  {
   "cell_type": "code",
   "execution_count": 1,
   "metadata": {},
   "outputs": [],
   "source": [
    "import numpy as np\n",
    "import pickle\n",
    "from struct import unpack\n",
    "import gzip\n",
    "import matplotlib.pyplot as plt\n",
    "\n",
    "from RBM import RBM"
   ]
  },
  {
   "cell_type": "markdown",
   "metadata": {},
   "source": [
    "## Loading Weight and bias to the RBM model for testing purpose"
   ]
  },
  {
   "cell_type": "code",
   "execution_count": 2,
   "metadata": {},
   "outputs": [],
   "source": [
    "#calling model for testing purpose\n",
    "model_test = RBM(n_visible=28*28, n_hidden=144)\n",
    "\n",
    "#Loading Weight\n",
    "rbm_weight_file = open(\"model/rbm_weight.npy\",'rb')\n",
    "model_test.weight = pickle.load(rbm_weight_file)\n",
    "\n",
    "#Loading visible layer bias\n",
    "rbm_v_bias_file = open(\"model/rbm_v_bias.npy\",'rb')\n",
    "model_test.v_bias = pickle.load(rbm_v_bias_file)\n",
    "\n",
    "#Loading hidden layer bias\n",
    "rbm_h_bias_file = open(\"model/rbm_h_bias.npy\",'rb')\n",
    "model_test.h_bias = pickle.load(rbm_h_bias_file)"
   ]
  },
  {
   "cell_type": "markdown",
   "metadata": {},
   "source": [
    "## Loading Dataset"
   ]
  },
  {
   "cell_type": "code",
   "execution_count": 3,
   "metadata": {},
   "outputs": [],
   "source": [
    "#Dataset\n",
    "f = gzip.open(\"../data/mnist.pkl.gz\", \"rb\")\n",
    "data = pickle.load(f,encoding='bytes')\n",
    "f.close()\n",
    "(x_train, y_train), (x_test, y_test) = data"
   ]
  },
  {
   "cell_type": "code",
   "execution_count": null,
   "metadata": {},
   "outputs": [],
   "source": []
  },
  {
   "cell_type": "code",
   "execution_count": 6,
   "metadata": {},
   "outputs": [],
   "source": [
    "\"\"\"Plotting and Testing of Restricted Boltzmann Machine\"\"\"\n",
    "number = 155\n",
    "visible = x_test[number].reshape(1,784).copy()\n",
    "\n",
    "#K =1\n",
    "prob_h_given_v, h_sample = model_test.sample_h_given_v(visible)\n",
    "prob_v_given_h0, v_sample_0 = model_test.sample_v_given_h(h_sample)\n",
    "\n",
    "#K = 2\n",
    "prob_h_given_v1, h_sample_1 = model_test.sample_h_given_v(prob_v_given_h0)\n",
    "prob_v_given_h1, v_sample_1 = model_test.sample_v_given_h(h_sample_1)\n",
    "\n",
    "#K = 3\n",
    "prob_h_given_v2, h_sample_2 = model_test.sample_h_given_v(prob_v_given_h1)\n",
    "prob_v_given_h2, v_sample_2 = model_test.sample_v_given_h(h_sample_2)\n",
    "\n",
    "#x = v_sample_k.reshape(28,28)\n",
    "x = prob_v_given_h0.reshape(28,28)"
   ]
  },
  {
   "cell_type": "code",
   "execution_count": 7,
   "metadata": {},
   "outputs": [
    {
     "data": {
      "text/plain": [
       "<matplotlib.image.AxesImage at 0x7f80145d3198>"
      ]
     },
     "execution_count": 7,
     "metadata": {},
     "output_type": "execute_result"
    },
    {
     "data": {
      "image/png": "[encoded data removed]",
      "text/plain": [
       "<Figure size 576x576 with 4 Axes>"
      ]
     },
     "metadata": {
      "needs_background": "light"
     },
     "output_type": "display_data"
    }
   ],
   "source": [
    "fig=plt.figure(figsize=(8, 8))\n",
    "\n",
    "fig.add_subplot(1, 4, 1)\n",
    "plt.imshow(visible.reshape(28,28))\n",
    "\n",
    "fig.add_subplot(1, 4, 2)\n",
    "plt.imshow(prob_v_given_h0.reshape(28,28))\n",
    "\n",
    "fig.add_subplot(1, 4, 3)\n",
    "plt.imshow(prob_v_given_h1.reshape(28,28))\n",
    "\n",
    "fig.add_subplot(1, 4, 4)\n",
    "plt.imshow(prob_v_given_h1.reshape(28,28))"
   ]
  },
  {
   "cell_type": "markdown",
   "metadata": {},
   "source": [
    "# Classification of Pixels "
   ]
  },
  {
   "cell_type": "code",
   "execution_count": 8,
   "metadata": {},
   "outputs": [],
   "source": [
    "from Linear import Linear\n",
    "model_linear = Linear()"
   ]
  },
  {
   "cell_type": "code",
   "execution_count": 9,
   "metadata": {},
   "outputs": [],
   "source": [
    "#Loading weight to the model\n",
    "classifier_weight_file = open(\"model/classifier_weight.npy\",'rb')\n",
    "model_linear.weight = pickle.load(classifier_weight_file)\n",
    "\n",
    "#Loading bias to the model\n",
    "classifier_bias_file = open(\"model/classifier_bias.npy\",'rb')\n",
    "model_linear.bias = pickle.load(classifier_bias_file)"
   ]
  },
  {
   "cell_type": "code",
   "execution_count": 10,
   "metadata": {},
   "outputs": [
    {
     "name": "stdout",
     "output_type": "stream",
     "text": [
      "predicted_label 4\n"
     ]
    },
    {
     "data": {
      "image/png": "[encoded data removed]",
      "text/plain": [
       "<Figure size 288x288 with 1 Axes>"
      ]
     },
     "metadata": {
      "needs_background": "light"
     },
     "output_type": "display_data"
    }
   ],
   "source": [
    "img_num = 19\n",
    "\n",
    "test_input = x_test[img_num].copy().reshape(1,784)/255.0\n",
    "test_target = y_test[img_num]\n",
    "\n",
    "predicted_label = np.argmax(model_linear.forward(test_input))\n",
    "\n",
    "fig2 = plt.figure(figsize=(4, 4))\n",
    "# fig2.add_subplot(1, 1, 1)\n",
    "plt.imshow(x_test[img_num])\n",
    "\n",
    "print(\"predicted_label\", predicted_label)"
   ]
  },
  {
   "cell_type": "markdown",
   "metadata": {},
   "source": [
    "# Classififcation using Restricted Boltzmann Machine hidden features"
   ]
  },
  {
   "cell_type": "code",
   "execution_count": 12,
   "metadata": {},
   "outputs": [],
   "source": [
    "from Linear import Linear\n",
    "model_linear_rbm = Linear(in_size=144,out_size=10)\n",
    "#### Max Accuracy on test dataset 0.8729"
   ]
  },
  {
   "cell_type": "code",
   "execution_count": 13,
   "metadata": {},
   "outputs": [],
   "source": [
    "#Loading weight to the model\n",
    "classifier_weight_file_rbm = open(\"model/classifier_weight_rbm.npy\",'rb')\n",
    "model_linear_rbm.weight = pickle.load(classifier_weight_file_rbm)\n",
    "\n",
    "#Loading bias to the model\n",
    "classifier_bias_file_rbm = open(\"model/classifier_bias_rbm.npy\",'rb')\n",
    "model_linear_rbm.bias = pickle.load(classifier_bias_file_rbm)"
   ]
  },
  {
   "cell_type": "code",
   "execution_count": 14,
   "metadata": {},
   "outputs": [],
   "source": [
    "#calling model for creating features\n",
    "classifier_model_test = RBM(n_visible=28*28, n_hidden=144)\n",
    "\n",
    "#Loading Weight\n",
    "rbm_weight_file = open(\"model/rbm_weight.npy\",'rb')\n",
    "classifier_model_test.weight = pickle.load(rbm_weight_file)\n",
    "\n",
    "#Loading visible layer bias\n",
    "rbm_v_bias_file = open(\"model/rbm_v_bias.npy\",'rb')\n",
    "classifier_model_test.v_bias = pickle.load(rbm_v_bias_file)\n",
    "\n",
    "#Loading hidden layer bias\n",
    "rbm_h_bias_file = open(\"model/rbm_h_bias.npy\",'rb')\n",
    "classifier_model_test.h_bias = pickle.load(rbm_h_bias_file)"
   ]
  },
  {
   "cell_type": "code",
   "execution_count": 21,
   "metadata": {},
   "outputs": [
    {
     "name": "stdout",
     "output_type": "stream",
     "text": [
      "predicted_label 6\n"
     ]
    },
    {
     "data": {
      "image/png": "[encoded data removed]",
      "text/plain": [
       "<Figure size 288x288 with 1 Axes>"
      ]
     },
     "metadata": {
      "needs_background": "light"
     },
     "output_type": "display_data"
    }
   ],
   "source": [
    "img_num = 9999\n",
    "\n",
    "test_input = x_test[img_num].copy().reshape(1,784)/255.0\n",
    "test_input, _ = model_test.sample_h_given_v(test_input)\n",
    "test_target = y_test[img_num]\n",
    "\n",
    "predicted_label = np.argmax(model_linear_rbm.forward(test_input))\n",
    "\n",
    "fig2 = plt.figure(figsize=(4, 4))\n",
    "# fig2.add_subplot(1, 1, 1)\n",
    "plt.imshow(x_test[img_num])\n",
    "\n",
    "print(\"predicted_label\", predicted_label)"
   ]
  },
  {
   "cell_type": "code",
   "execution_count": null,
   "metadata": {},
   "outputs": [],
   "source": []
  }
 ],
 "metadata": {
  "kernelspec": {
   "display_name": "Python 3",
   "language": "python",
   "name": "python3"
  },
  "language_info": {
   "codemirror_mode": {
    "name": "ipython",
    "version": 3
   },
   "file_extension": ".py",
   "mimetype": "text/x-python",
   "name": "python",
   "nbconvert_exporter": "python",
   "pygments_lexer": "ipython3",
   "version": "3.7.3"
  }
 },
 "nbformat": 4,
 "nbformat_minor": 4
}
