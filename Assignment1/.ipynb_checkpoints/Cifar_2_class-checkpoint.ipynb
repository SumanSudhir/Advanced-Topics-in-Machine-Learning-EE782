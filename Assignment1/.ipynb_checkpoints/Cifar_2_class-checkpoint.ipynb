{
 "cells": [
  {
   "cell_type": "code",
   "execution_count": 2,
   "metadata": {},
   "outputs": [
    {
     "name": "stdout",
     "output_type": "stream",
     "text": [
      "CUDA is available!  Training on GPU ...\n"
     ]
    }
   ],
   "source": [
    "import torch\n",
    "from torchvision import datasets, transforms\n",
    "\n",
    "import torch\n",
    "import numpy as np\n",
    "\n",
    "# check if CUDA is available\n",
    "train_on_gpu = torch.cuda.is_available()\n",
    "\n",
    "if not train_on_gpu:\n",
    "    print('CUDA is not available.  Training on CPU ...')\n",
    "else:\n",
    "    print('CUDA is available!  Training on GPU ...')"
   ]
  },
  {
   "cell_type": "code",
   "execution_count": 17,
   "metadata": {},
   "outputs": [],
   "source": [
    "from torchvision import datasets\n",
    "import torchvision.transforms as transforms\n",
    "\n",
    "#number of subprocesses to use for data loading\n",
    "num_workers = 0\n",
    "#how many samples per batch to load\n",
    "batch_size = 40"
   ]
  },
  {
   "cell_type": "code",
   "execution_count": 18,
   "metadata": {},
   "outputs": [
    {
     "name": "stdout",
     "output_type": "stream",
     "text": [
      "Files already downloaded and verified\n",
      "Files already downloaded and verified\n"
     ]
    }
   ],
   "source": [
    "# Define a transform to normalize the data\n",
    "transform = transforms.Compose([transforms.ToTensor(),\n",
    "                                transforms.Normalize((0.5, 0.5, 0.5), (0.5, 0.5, 0.5))])\n",
    "\n",
    "# choose the training and test datasets\n",
    "train_data = datasets.CIFAR10('data', train=True,\n",
    "                              download=True, transform=transform)\n",
    "\n",
    "valid_data = datasets.CIFAR10('data', train=False,\n",
    "                             download=True, transform=transform)\n",
    "\n",
    "# prepare data loaders\n",
    "\n",
    "train_loader = torch.utils.data.DataLoader(train_data, batch_size=batch_size, num_workers=num_workers)\n",
    "\n",
    "valid_loader = torch.utils.data.DataLoader(valid_data, batch_size=batch_size, num_workers=num_workers)\n",
    "\n",
    "# specify the image classes\n",
    "classes = ['airplane', 'automobile', 'bird', 'cat', 'deer',\n",
    "           'dog', 'frog', 'horse', 'ship', 'truck']\n"
   ]
  },
  {
   "cell_type": "code",
   "execution_count": 19,
   "metadata": {},
   "outputs": [],
   "source": [
    "import matplotlib.pyplot as plt\n",
    "%matplotlib inline\n",
    "\n",
    "# helper function to un-normalize and display an image\n",
    "def imshow(img):\n",
    "    img = img / 2 + 0.5  # unnormalize\n",
    "    plt.imshow(np.transpose(img, (1, 2, 0)))  # convert from Tensor image"
   ]
  },
  {
   "cell_type": "code",
   "execution_count": 21,
   "metadata": {},
   "outputs": [
    {
     "name": "stdout",
     "output_type": "stream",
     "text": [
      "6\n"
     ]
    },
    {
     "data": {
      "image/png": "[encoded data removed]",
      "text/plain": [
       "<Figure size 1800x288 with 6 Axes>"
      ]
     },
     "metadata": {},
     "output_type": "display_data"
    }
   ],
   "source": [
    "# obtain one batch of training images\n",
    "dataiter = iter(train_loader)\n",
    "images, labels = dataiter.next()\n",
    "images = images[labels<2]\n",
    "print(len(images))\n",
    "labels = labels[labels<2]\n",
    "images = images.numpy() # convert images to numpy for display\n",
    "\n",
    "# plot the images in the batch, along with the corresponding labels\n",
    "fig = plt.figure(figsize=(25, 4))\n",
    "# display 20 images\n",
    "for idx in np.arange(len(labels)):\n",
    "    ax = fig.add_subplot(2, 20/2, idx+1, xticks=[], yticks=[])\n",
    "    imshow(images[idx])\n",
    "    ax.set_title(classes[labels[idx]])"
   ]
  },
  {
   "cell_type": "code",
   "execution_count": 22,
   "metadata": {},
   "outputs": [
    {
     "name": "stdout",
     "output_type": "stream",
     "text": [
      "Net(\n",
      "  (conv1): Conv2d(3, 16, kernel_size=(3, 3), stride=(1, 1), padding=(1, 1))\n",
      "  (conv2): Conv2d(16, 32, kernel_size=(3, 3), stride=(1, 1), padding=(1, 1))\n",
      "  (conv3): Conv2d(32, 64, kernel_size=(3, 3), stride=(1, 1), padding=(1, 1))\n",
      "  (pool): MaxPool2d(kernel_size=2, stride=2, padding=0, dilation=1, ceil_mode=False)\n",
      "  (fc1): Linear(in_features=1024, out_features=500, bias=True)\n",
      "  (fc2): Linear(in_features=500, out_features=2, bias=True)\n",
      "  (dropout): Dropout(p=0.25)\n",
      ")\n"
     ]
    }
   ],
   "source": [
    "import torch.nn as nn\n",
    "import torch.nn.functional as F\n",
    "\n",
    "#Define CNN structure\n",
    "class Net(nn.Module):\n",
    "    def __init__(self):\n",
    "        super(Net,self).__init__()\n",
    "        #Convolutional layer (32x32x3 image tensor)\n",
    "        self.conv1 = nn.Conv2d(3, 16, 3, padding=1)\n",
    "        #convolutional layer (16x16x16)\n",
    "        self.conv2 = nn.Conv2d(16, 32, 3, padding=1)\n",
    "        #convolutional layer (8x8x32)\n",
    "        self.conv3 = nn.Conv2d(32, 64, 3, padding=1)\n",
    "        # max pooling layer\n",
    "        self.pool = nn.MaxPool2d(2, 2)\n",
    "        # linear layer (64 * 4 * 4 -> 500)\n",
    "        self.fc1 = nn.Linear(64*4*4, 500)\n",
    "        # linear layer (500 -> 10)\n",
    "        self.fc2 = nn.Linear(500,2)\n",
    "        #dropout layer (p=0.2)\n",
    "        self.dropout = nn.Dropout(0.25)\n",
    "        \n",
    "    def forward(self,x):\n",
    "        #Adding sequence of convolution and max pooling layers\n",
    "        \n",
    "        # (32x32x3 image tensor)\n",
    "        x = self.conv1(x)\n",
    "        x = F.relu(x)\n",
    "        x = self.pool(x)\n",
    "        # (16x16x16 image tensor)\n",
    "        x = self.conv2(x)\n",
    "        x = F.relu(x)\n",
    "        x = self.pool(x)\n",
    "        # (8x8x32 image tensor)\n",
    "        x = self.conv3(x)\n",
    "        x = F.relu(x)\n",
    "        x = self.pool(x)\n",
    "        # (4x4x64 image tensor)\n",
    "        # flatten image input\n",
    "        x = x.view(-1, 64 * 4 * 4)\n",
    "    \n",
    "        x = self.dropout(x)\n",
    "        #First hidden layer with relu activation function\n",
    "        x = F.relu(self.fc1(x))    \n",
    "        #add 1st dropout layer\n",
    "        x = self.dropout(x)\n",
    "        #add 2nd hidden layer\n",
    "        x = self.fc2(x)\n",
    "        \n",
    "        return x\n",
    "    \n",
    "#Complete CNN\n",
    "model = Net()\n",
    "print(model)\n",
    "\n",
    "#move tensors to GPU if CUDA is available\n",
    "if train_on_gpu:\n",
    "    model.cuda()"
   ]
  },
  {
   "cell_type": "code",
   "execution_count": null,
   "metadata": {},
   "outputs": [],
   "source": []
  },
  {
   "cell_type": "code",
   "execution_count": 23,
   "metadata": {},
   "outputs": [],
   "source": [
    "# Define loss and optimizer \n",
    "import torch.optim as optim\n",
    "\n",
    "#specify loss function\n",
    "criterion = nn.CrossEntropyLoss()\n",
    "\n",
    "#specify optimizer\n",
    "optimizer = optim.SGD(model.parameters(),lr=0.001)"
   ]
  },
  {
   "cell_type": "code",
   "execution_count": 24,
   "metadata": {},
   "outputs": [
    {
     "name": "stdout",
     "output_type": "stream",
     "text": [
      "Epoch:1 \t Train_loss: 0.691098 \t Valid_loss: 0.687132 \t Accuracy: 0.628500\n",
      "Epoch:2 \t Train_loss: 0.683550 \t Valid_loss: 0.674380 \t Accuracy: 0.695500\n",
      "Epoch:3 \t Train_loss: 0.662786 \t Valid_loss: 0.632937 \t Accuracy: 0.708500\n",
      "Epoch:4 \t Train_loss: 0.605685 \t Valid_loss: 0.551379 \t Accuracy: 0.728000\n",
      "Epoch:5 \t Train_loss: 0.549216 \t Valid_loss: 0.501161 \t Accuracy: 0.762000\n",
      "Epoch:6 \t Train_loss: 0.507799 \t Valid_loss: 0.460371 \t Accuracy: 0.791500\n",
      "Epoch:7 \t Train_loss: 0.473620 \t Valid_loss: 0.432701 \t Accuracy: 0.808000\n",
      "Epoch:8 \t Train_loss: 0.444702 \t Valid_loss: 0.404690 \t Accuracy: 0.823500\n",
      "Epoch:9 \t Train_loss: 0.420517 \t Valid_loss: 0.384711 \t Accuracy: 0.829500\n",
      "Epoch:10 \t Train_loss: 0.404636 \t Valid_loss: 0.371790 \t Accuracy: 0.835000\n",
      "Epoch:11 \t Train_loss: 0.390307 \t Valid_loss: 0.358564 \t Accuracy: 0.841000\n",
      "Epoch:12 \t Train_loss: 0.377408 \t Valid_loss: 0.344833 \t Accuracy: 0.840000\n",
      "Epoch:13 \t Train_loss: 0.364878 \t Valid_loss: 0.328329 \t Accuracy: 0.848500\n",
      "Epoch:14 \t Train_loss: 0.353813 \t Valid_loss: 0.321114 \t Accuracy: 0.852000\n",
      "Epoch:15 \t Train_loss: 0.341235 \t Valid_loss: 0.311325 \t Accuracy: 0.858000\n",
      "Epoch:16 \t Train_loss: 0.329062 \t Valid_loss: 0.300724 \t Accuracy: 0.863500\n",
      "Epoch:17 \t Train_loss: 0.319864 \t Valid_loss: 0.291182 \t Accuracy: 0.869000\n",
      "Epoch:18 \t Train_loss: 0.313039 \t Valid_loss: 0.281310 \t Accuracy: 0.875000\n",
      "Epoch:19 \t Train_loss: 0.304309 \t Valid_loss: 0.277857 \t Accuracy: 0.877500\n",
      "Epoch:20 \t Train_loss: 0.297034 \t Valid_loss: 0.268702 \t Accuracy: 0.883500\n",
      "Epoch:21 \t Train_loss: 0.284067 \t Valid_loss: 0.265347 \t Accuracy: 0.886500\n",
      "Epoch:22 \t Train_loss: 0.279496 \t Valid_loss: 0.254483 \t Accuracy: 0.891500\n",
      "Epoch:23 \t Train_loss: 0.272260 \t Valid_loss: 0.247541 \t Accuracy: 0.896000\n",
      "Epoch:24 \t Train_loss: 0.263298 \t Valid_loss: 0.243793 \t Accuracy: 0.896500\n",
      "Epoch:25 \t Train_loss: 0.256609 \t Valid_loss: 0.230392 \t Accuracy: 0.904000\n",
      "Epoch:26 \t Train_loss: 0.249395 \t Valid_loss: 0.228381 \t Accuracy: 0.907500\n",
      "Epoch:27 \t Train_loss: 0.244334 \t Valid_loss: 0.220273 \t Accuracy: 0.909000\n",
      "Epoch:28 \t Train_loss: 0.235986 \t Valid_loss: 0.213934 \t Accuracy: 0.910000\n",
      "Epoch:29 \t Train_loss: 0.233084 \t Valid_loss: 0.212721 \t Accuracy: 0.913000\n",
      "Epoch:30 \t Train_loss: 0.226544 \t Valid_loss: 0.208555 \t Accuracy: 0.913000\n",
      "Epoch:31 \t Train_loss: 0.223362 \t Valid_loss: 0.203342 \t Accuracy: 0.916000\n",
      "Epoch:32 \t Train_loss: 0.220070 \t Valid_loss: 0.200761 \t Accuracy: 0.918000\n",
      "Epoch:33 \t Train_loss: 0.211822 \t Valid_loss: 0.194150 \t Accuracy: 0.916500\n",
      "Epoch:34 \t Train_loss: 0.209653 \t Valid_loss: 0.192260 \t Accuracy: 0.923000\n",
      "Epoch:35 \t Train_loss: 0.203371 \t Valid_loss: 0.184490 \t Accuracy: 0.923000\n",
      "Epoch:36 \t Train_loss: 0.202526 \t Valid_loss: 0.189203 \t Accuracy: 0.923000\n",
      "Epoch:37 \t Train_loss: 0.196266 \t Valid_loss: 0.177239 \t Accuracy: 0.927000\n",
      "Epoch:38 \t Train_loss: 0.191661 \t Valid_loss: 0.179275 \t Accuracy: 0.925000\n",
      "Epoch:39 \t Train_loss: 0.188825 \t Valid_loss: 0.171608 \t Accuracy: 0.929000\n",
      "Epoch:40 \t Train_loss: 0.186319 \t Valid_loss: 0.166823 \t Accuracy: 0.933000\n"
     ]
    }
   ],
   "source": [
    "#number of epochs to train the model\n",
    "n_epochs = 70\n",
    "\n",
    "train_loss_store = []\n",
    "valid_loss_store = []\n",
    "\n",
    "for epoch in range(1,n_epochs+1):\n",
    "    \n",
    "    #keep track of training and validation\n",
    "    train_loss = 0.0\n",
    "    valid_loss = 0.0\n",
    "    correct = 0\n",
    "    valid_img = 0\n",
    "    train_img = 0\n",
    "    \n",
    "    #Training of Model\n",
    "    model.train()\n",
    "    for data, target in train_loader:\n",
    "        #move tensor to GPU if CUDA is available\n",
    "        data = data[target<2]\n",
    "        target = target[target<2]\n",
    "        \n",
    "        #print(len(data))\n",
    "        #print(len(target))\n",
    "        \n",
    "        train_img += len(data)\n",
    "        \n",
    "        if train_on_gpu:\n",
    "            data, target = data.cuda(), target.cuda()\n",
    "            \n",
    "        #clear the gradient of all optimized variables\n",
    "        optimizer.zero_grad()\n",
    "        #forward pass compute predicted output\n",
    "        output = model(data)\n",
    "        #calculate the batch loss\n",
    "        loss = criterion(output, target)\n",
    "        #backward pass compute the gradient of loss with respect to model parameter\n",
    "        loss.backward()\n",
    "        #perform optimizer step\n",
    "        optimizer.step()\n",
    "        #update training loss\n",
    "        train_loss += loss.item()*data.size(0)\n",
    "        \n",
    "    #Validate the model\n",
    "    model.eval()\n",
    "    for data, target in valid_loader:\n",
    "        #move tensor to GPU if CUDA is available\n",
    "#         print(target.shape)\n",
    "        data = data[target<2]\n",
    "        target = target[target<2]\n",
    "        \n",
    "        valid_img += len(data)\n",
    "        \n",
    "        if train_on_gpu:\n",
    "            data, target = data.cuda(), target.cuda()\n",
    "            \n",
    "        #forward pass compute output by passing through optimized model\n",
    "        output = model(data)\n",
    "        #print(output.shape)\n",
    "        #batch loss calculation\n",
    "        loss = criterion(output,target)\n",
    "        \n",
    "        #checking correct classes\n",
    "        top_p, top_class = output.topk(1, dim=1)\n",
    "        #find number of correct classes predicted\n",
    "        top_p, top_class = output.topk(1, dim=1)\n",
    "        #print(top_class)\n",
    "        for i in range(len(data)):\n",
    "            if target[i] == top_class[i]:\n",
    "                correct += 1 \n",
    "                \n",
    "        #update validation loss\n",
    "        valid_loss += loss.item()*data.size(0)\n",
    "        \n",
    "    #calculation of average losses\n",
    "    train_loss = train_loss/(train_img)\n",
    "    valid_loss = valid_loss/(valid_img)\n",
    "    accuracy = correct/(valid_img)\n",
    "    \n",
    "    train_loss_store.append(train_loss)\n",
    "    valid_loss_store.append(valid_loss)\n",
    "    \n",
    "    \n",
    "    if epoch == 40:\n",
    "        torch.save(model.state_dict(), 'model_cifar.pt')\n",
    "        \n",
    "    \n",
    "    print(\"Epoch:{} \\t Train_loss: {:.6f} \\t Valid_loss: {:.6f} \\t Accuracy: {:.6f}\".format(epoch, train_loss,valid_loss, accuracy))\n",
    "        \n",
    "    #plt.plot(train_loss_store, label='Training loss')\n",
    "    #plt.plot(valid_loss_store, label='Validation loss')\n",
    "    #plt.legend(frameon=False)\n",
    "    #plt.savefig('final.png', dpi=100)\n",
    "    #plt.show()"
   ]
  },
  {
   "cell_type": "code",
   "execution_count": 25,
   "metadata": {},
   "outputs": [
    {
     "data": {
      "image/png": "[encoded data removed]",
      "text/plain": [
       "<Figure size 432x288 with 1 Axes>"
      ]
     },
     "metadata": {
      "needs_background": "light"
     },
     "output_type": "display_data"
    }
   ],
   "source": [
    "plt.plot(train_loss_store, label='Training loss')\n",
    "plt.plot(valid_loss_store, label='Validation loss')\n",
    "plt.legend(frameon=False)\n",
    "plt.savefig('cnn_2', dpi=100)\n",
    "plt.show()"
   ]
  },
  {
   "cell_type": "code",
   "execution_count": null,
   "metadata": {},
   "outputs": [],
   "source": []
  }
 ],
 "metadata": {
  "kernelspec": {
   "display_name": "Python 3",
   "language": "python",
   "name": "python3"
  },
  "language_info": {
   "codemirror_mode": {
    "name": "ipython",
    "version": 3
   },
   "file_extension": ".py",
   "mimetype": "text/x-python",
   "name": "python",
   "nbconvert_exporter": "python",
   "pygments_lexer": "ipython3",
   "version": "3.7.0"
  }
 },
 "nbformat": 4,
 "nbformat_minor": 4
}
